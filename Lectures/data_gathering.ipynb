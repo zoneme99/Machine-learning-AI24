{
 "cells": [
  {
   "cell_type": "code",
   "execution_count": 15,
   "metadata": {},
   "outputs": [],
   "source": [
    "import time\n",
    "import pandas as pd \n",
    "\n",
    "\n",
    "symbols = [\"AAPL\", \"NVDA\", \"TSLA\", \"IBM\"]\n",
    "stock_list = []\n",
    "\n",
    "for symbol in symbols:\n",
    "    for function, time_column in zip([\"TIME_SERIES_DAILY_ADJUSTED\", \"TIME_SERIES_INTRADAY_EXTENDED\"], [\"timestamp\", \"time\"]):\n",
    "        url = f\"https://www.alphavantage.co/query?function={function}&symbol={symbol}&apikey={api_key}&datatype=csv&outputsize=full&interval=60min\"\n",
    "\n",
    "        df = pd.read_csv(url)\n",
    "        df.set_index(df[time_column], inplace=True)\n",
    "        df.index = pd.to_datetime(df.index)\n",
    "        df.drop(time_column, axis=1, inplace=True)\n",
    "        df.to_csv(f\"../data/Stocksdata/{symbol}_{function}.csv\")\n",
    "\n",
    "        # to not overload API\n",
    "        time.sleep(15)"
   ]
  }
 ],
 "metadata": {
  "kernelspec": {
   "display_name": "Python 3.9.9 ('Databehandling-AI22-mq3U8BWY')",
   "language": "python",
   "name": "python3"
  },
  "language_info": {
   "codemirror_mode": {
    "name": "ipython",
    "version": 3
   },
   "file_extension": ".py",
   "mimetype": "text/x-python",
   "name": "python",
   "nbconvert_exporter": "python",
   "pygments_lexer": "ipython3",
   "version": "3.9.9"
  },
  "orig_nbformat": 4,
  "vscode": {
   "interpreter": {
    "hash": "99d2aeb892b75b646558ed378bf7fc4f020b27183f0dec07a5c4105939e629f3"
   }
  }
 },
 "nbformat": 4,
 "nbformat_minor": 2
}
